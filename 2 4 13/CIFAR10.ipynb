{
 "cells": [
  {
   "cell_type": "code",
   "execution_count": 1,
   "id": "06f47433",
   "metadata": {},
   "outputs": [],
   "source": [
    "import tensorflow as tf\n",
    "import keras\n",
    "from tensorflow.keras.layers import Dense,MaxPooling2D,Conv2D,Flatten\n",
    "from keras.datasets import cifar10\n",
    "from tensorflow.keras.models import Sequential"
   ]
  },
  {
   "cell_type": "code",
   "execution_count": 2,
   "id": "07007217",
   "metadata": {},
   "outputs": [],
   "source": [
    "(x_train,y_train),(x_test,y_test)=cifar10.load_data()"
   ]
  },
  {
   "cell_type": "code",
   "execution_count": 3,
   "id": "da790e52",
   "metadata": {},
   "outputs": [],
   "source": [
    "x_train=x_train/255.0\n",
    "x_test=x_test/255.0"
   ]
  },
  {
   "cell_type": "code",
   "execution_count": 4,
   "id": "0d4ea652",
   "metadata": {},
   "outputs": [],
   "source": [
    "y_train=keras.utils.np_utils.to_categorical(y_train,10)\n",
    "y_test=keras.utils.np_utils.to_categorical(y_test,10)"
   ]
  },
  {
   "cell_type": "code",
   "execution_count": 5,
   "id": "7018628b",
   "metadata": {},
   "outputs": [],
   "source": [
    "model=Sequential([\n",
    "    Conv2D(32,(3,3),activation='relu',input_shape=(32,32,3)),\n",
    "    MaxPooling2D((2,2)),\n",
    "    Conv2D(64,(3,3),activation='relu'),\n",
    "    MaxPooling2D((2,2)),\n",
    "    Conv2D(64,(3,3),activation='relu'),\n",
    "    Flatten(),\n",
    "    Dense(64,activation='relu'),\n",
    "    Dense(10,activation='softmax')\n",
    "])"
   ]
  },
  {
   "cell_type": "code",
   "execution_count": 8,
   "id": "67ef26ad",
   "metadata": {},
   "outputs": [
    {
     "name": "stdout",
     "output_type": "stream",
     "text": [
      "Epoch 1/10\n",
      "1563/1563 [==============================] - 27s 17ms/step - loss: 1.5412 - accuracy: 0.4420 - val_loss: 1.3076 - val_accuracy: 0.5246\n",
      "Epoch 2/10\n",
      "1563/1563 [==============================] - 26s 17ms/step - loss: 1.1531 - accuracy: 0.5908 - val_loss: 1.0729 - val_accuracy: 0.6240\n",
      "Epoch 3/10\n",
      "1563/1563 [==============================] - 26s 17ms/step - loss: 1.0036 - accuracy: 0.6467 - val_loss: 0.9730 - val_accuracy: 0.6578\n",
      "Epoch 4/10\n",
      "1563/1563 [==============================] - 26s 17ms/step - loss: 0.9174 - accuracy: 0.6776 - val_loss: 0.9136 - val_accuracy: 0.6766\n",
      "Epoch 5/10\n",
      "1563/1563 [==============================] - 26s 17ms/step - loss: 0.8448 - accuracy: 0.7031 - val_loss: 0.9160 - val_accuracy: 0.6748\n",
      "Epoch 6/10\n",
      "1563/1563 [==============================] - 26s 17ms/step - loss: 0.7906 - accuracy: 0.7243 - val_loss: 0.9162 - val_accuracy: 0.6835\n",
      "Epoch 7/10\n",
      "1563/1563 [==============================] - 27s 17ms/step - loss: 0.7434 - accuracy: 0.7392 - val_loss: 0.9136 - val_accuracy: 0.6876\n",
      "Epoch 8/10\n",
      "1563/1563 [==============================] - 26s 17ms/step - loss: 0.7020 - accuracy: 0.7524 - val_loss: 0.8461 - val_accuracy: 0.7150\n",
      "Epoch 9/10\n",
      "1563/1563 [==============================] - 26s 17ms/step - loss: 0.6650 - accuracy: 0.7658 - val_loss: 0.8601 - val_accuracy: 0.7081\n",
      "Epoch 10/10\n",
      "1563/1563 [==============================] - 26s 17ms/step - loss: 0.6342 - accuracy: 0.7772 - val_loss: 0.8709 - val_accuracy: 0.7083\n"
     ]
    },
    {
     "data": {
      "text/plain": [
       "<keras.callbacks.History at 0x2253af7c148>"
      ]
     },
     "execution_count": 8,
     "metadata": {},
     "output_type": "execute_result"
    }
   ],
   "source": [
    "model.compile(loss='categorical_crossentropy',optimizer='adam',metrics=['accuracy'])\n",
    "model.fit(x_train,y_train,epochs=11,shuffle=True,validation_data=(x_test,y_test))\n",
    "model.summary()\n",
    "# ***Increase Epochs number to get maximum Accuracy***"
   ]
  },
  {
   "cell_type": "code",
   "execution_count": 9,
   "id": "2b352bc4",
   "metadata": {},
   "outputs": [
    {
     "name": "stdout",
     "output_type": "stream",
     "text": [
      "313/313 [==============================] - 2s 6ms/step - loss: 0.8709 - accuracy: 0.7083\n",
      "0.8709132075309753\n",
      "0.708299994468689\n"
     ]
    }
   ],
   "source": [
    "los,acc=model.evaluate(x_test,y_test)\n",
    "print(los)\n",
    "print(acc)"
   ]
  }
 ],
 "metadata": {
  "kernelspec": {
   "display_name": "Python 3 (ipykernel)",
   "language": "python",
   "name": "python3"
  },
  "language_info": {
   "codemirror_mode": {
    "name": "ipython",
    "version": 3
   },
   "file_extension": ".py",
   "mimetype": "text/x-python",
   "name": "python",
   "nbconvert_exporter": "python",
   "pygments_lexer": "ipython3",
   "version": "3.7.5"
  }
 },
 "nbformat": 4,
 "nbformat_minor": 5
}
