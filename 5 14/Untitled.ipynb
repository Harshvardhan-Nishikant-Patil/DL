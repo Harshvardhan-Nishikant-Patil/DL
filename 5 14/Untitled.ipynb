{
 "cells": [
  {
   "cell_type": "code",
   "execution_count": 1,
   "id": "e5032d11",
   "metadata": {},
   "outputs": [
    {
     "data": {
      "text/plain": [
       "'\\nDATASET : https://www.kaggle.com/datasets/mlg-ulb/creditcardfraud/\\n'"
      ]
     },
     "execution_count": 1,
     "metadata": {},
     "output_type": "execute_result"
    }
   ],
   "source": [
    "\"\"\"\n",
    "DATASET : https://www.kaggle.com/datasets/mlg-ulb/creditcardfraud/\n",
    "\"\"\""
   ]
  },
  {
   "cell_type": "code",
   "execution_count": 2,
   "id": "9b1e7891",
   "metadata": {},
   "outputs": [],
   "source": [
    "import numpy as np\n",
    "import pandas as pd\n",
    "import tensorflow as tf\n",
    "from sklearn.model_selection import train_test_split\n",
    "from sklearn.preprocessing import StandardScaler"
   ]
  },
  {
   "cell_type": "code",
   "execution_count": 3,
   "id": "2041d8cf",
   "metadata": {},
   "outputs": [],
   "source": [
    "dataset = pd.read_csv('creditcard.csv')\n",
    "X = StandardScaler().fit_transform(dataset.drop('Class', axis=1))\n",
    "y = dataset['Class']"
   ]
  },
  {
   "cell_type": "code",
   "execution_count": 4,
   "id": "c067cc0a",
   "metadata": {},
   "outputs": [],
   "source": [
    "X_train, X_test, y_train, y_test = train_test_split(X, y, test_size=0.2, random_state=42)"
   ]
  },
  {
   "cell_type": "code",
   "execution_count": 5,
   "id": "7b0516f6",
   "metadata": {},
   "outputs": [],
   "source": [
    "# Build the Autoencoder model\n",
    "input_dim, encoding_dim = X_train.shape[1], 16\n",
    "encoder = tf.keras.models.Sequential([\n",
    "    tf.keras.layers.InputLayer(input_shape=(input_dim,)),\n",
    "    tf.keras.layers.Dense(32, activation='relu'),\n",
    "    tf.keras.layers.Dense(encoding_dim, activation='relu')\n",
    "])"
   ]
  },
  {
   "cell_type": "code",
   "execution_count": 6,
   "id": "2a749368",
   "metadata": {},
   "outputs": [],
   "source": [
    "decoder = tf.keras.models.Sequential([\n",
    "    tf.keras.layers.InputLayer(input_shape=(encoding_dim,)),\n",
    "    tf.keras.layers.Dense(32, activation='relu'),\n",
    "    tf.keras.layers.Dense(input_dim, activation='sigmoid')\n",
    "])"
   ]
  },
  {
   "cell_type": "code",
   "execution_count": 7,
   "id": "80d37883",
   "metadata": {},
   "outputs": [
    {
     "name": "stdout",
     "output_type": "stream",
     "text": [
      "Epoch 1/10\n",
      "7121/7121 [==============================] - 18s 2ms/step - loss: 0.7714 - val_loss: 0.7171\n",
      "Epoch 2/10\n",
      "7121/7121 [==============================] - 17s 2ms/step - loss: 0.7231 - val_loss: 0.7067\n",
      "Epoch 3/10\n",
      "7121/7121 [==============================] - 17s 2ms/step - loss: 0.7172 - val_loss: 0.7024\n",
      "Epoch 4/10\n",
      "7121/7121 [==============================] - 16s 2ms/step - loss: 0.7131 - val_loss: 0.6988\n",
      "Epoch 5/10\n",
      "7121/7121 [==============================] - 16s 2ms/step - loss: 0.7107 - val_loss: 0.6966\n",
      "Epoch 6/10\n",
      "7121/7121 [==============================] - 17s 2ms/step - loss: 0.7088 - val_loss: 0.6957\n",
      "Epoch 7/10\n",
      "7121/7121 [==============================] - 15s 2ms/step - loss: 0.7078 - val_loss: 0.6943\n",
      "Epoch 8/10\n",
      "7121/7121 [==============================] - 16s 2ms/step - loss: 0.7088 - val_loss: 0.6934\n",
      "Epoch 9/10\n",
      "7121/7121 [==============================] - 15s 2ms/step - loss: 0.7061 - val_loss: 0.6939\n",
      "Epoch 10/10\n",
      "7121/7121 [==============================] - 16s 2ms/step - loss: 0.7058 - val_loss: 0.6932\n",
      "Model: \"sequential_2\"\n",
      "_________________________________________________________________\n",
      " Layer (type)                Output Shape              Param #   \n",
      "=================================================================\n",
      " sequential (Sequential)     (None, 16)                1520      \n",
      "                                                                 \n",
      " sequential_1 (Sequential)   (None, 30)                1534      \n",
      "                                                                 \n",
      "=================================================================\n",
      "Total params: 3,054\n",
      "Trainable params: 3,054\n",
      "Non-trainable params: 0\n",
      "_________________________________________________________________\n"
     ]
    }
   ],
   "source": [
    "autoencoder = tf.keras.models.Sequential([encoder, decoder])\n",
    "\n",
    "autoencoder.compile(optimizer='adam', loss='mean_squared_error')\n",
    "\n",
    "autoencoder.fit(X_train, X_train, epochs=10, batch_size=32, shuffle=True, validation_data=(X_test, X_test))\n",
    "\n",
    "autoencoder.summary()"
   ]
  },
  {
   "cell_type": "code",
   "execution_count": 8,
   "id": "d396f4e1",
   "metadata": {},
   "outputs": [
    {
     "name": "stdout",
     "output_type": "stream",
     "text": [
      "1781/1781 [==============================] - 3s 2ms/step\n"
     ]
    }
   ],
   "source": [
    "# Evaluate the model\n",
    "predictions = autoencoder.predict(X_test)\n",
    "mse = np.mean(np.power(X_test - predictions, 2), axis=1)\n",
    "threshold = np.percentile(mse, 95)\n",
    "\n",
    "# Classify anomalies\n",
    "y_pred = np.where(mse > threshold, 1, 0)"
   ]
  },
  {
   "cell_type": "code",
   "execution_count": 9,
   "id": "27c844e5",
   "metadata": {},
   "outputs": [
    {
     "name": "stdout",
     "output_type": "stream",
     "text": [
      "Accuracy: 0.951353533934904\n",
      "Confusion Matrix:\n",
      "[[54103  2761]\n",
      " [   10    88]]\n",
      "Classification Report:\n",
      "              precision    recall  f1-score   support\n",
      "\n",
      "           0       1.00      0.95      0.98     56864\n",
      "           1       0.03      0.90      0.06        98\n",
      "\n",
      "    accuracy                           0.95     56962\n",
      "   macro avg       0.52      0.92      0.52     56962\n",
      "weighted avg       1.00      0.95      0.97     56962\n",
      "\n"
     ]
    }
   ],
   "source": [
    "from sklearn.metrics import accuracy_score, confusion_matrix, classification_report\n",
    "\n",
    "print(f'Accuracy: {accuracy_score(y_test, y_pred)}')\n",
    "print(f'Confusion Matrix:\\n{confusion_matrix(y_test, y_pred)}')\n",
    "print(f'Classification Report:\\n{classification_report(y_test, y_pred)}')"
   ]
  }
 ],
 "metadata": {
  "kernelspec": {
   "display_name": "Python 3 (ipykernel)",
   "language": "python",
   "name": "python3"
  },
  "language_info": {
   "codemirror_mode": {
    "name": "ipython",
    "version": 3
   },
   "file_extension": ".py",
   "mimetype": "text/x-python",
   "name": "python",
   "nbconvert_exporter": "python",
   "pygments_lexer": "ipython3",
   "version": "3.7.5"
  }
 },
 "nbformat": 4,
 "nbformat_minor": 5
}
