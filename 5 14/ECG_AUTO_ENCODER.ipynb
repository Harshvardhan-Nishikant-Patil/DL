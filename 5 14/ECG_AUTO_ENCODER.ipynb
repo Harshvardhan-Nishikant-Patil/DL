{
 "cells": [
  {
   "cell_type": "code",
   "execution_count": 1,
   "id": "dd5c6cda",
   "metadata": {},
   "outputs": [],
   "source": [
    "'''\n",
    "DATASET :  https://www.kaggle.com/datasets/devavratatripathy/ecg-dataset\n",
    "'''"
   ]
  },
  {
   "cell_type": "code",
   "execution_count": null,
   "id": "8b9dbe70",
   "metadata": {},
   "outputs": [],
   "source": [
    "import numpy as np\n",
    "import pandas as pd\n",
    "import tensorflow as tf\n",
    "from sklearn.model_selection import train_test_split\n",
    "from sklearn.preprocessing import StandardScaler\n",
    "from sklearn.metrics import accuracy_score\n",
    "from tensorflow.keras.layers import InputLayer,Dense\n",
    "from tensorflow.keras.models import Sequential"
   ]
  },
  {
   "cell_type": "code",
   "execution_count": 2,
   "id": "1ee09db7",
   "metadata": {},
   "outputs": [],
   "source": [
    "ecg_dataset = pd.read_csv('ecg.csv')\n",
    "X = ecg_dataset.values  \n",
    "y = np.zeros(X.shape[0])  "
   ]
  },
  {
   "cell_type": "code",
   "execution_count": 3,
   "id": "59eb72b4",
   "metadata": {},
   "outputs": [],
   "source": [
    "X_train, X_test, y_train, y_test = train_test_split(X, y, test_size=0.2, random_state=42)"
   ]
  },
  {
   "cell_type": "code",
   "execution_count": 4,
   "id": "5d850f06",
   "metadata": {},
   "outputs": [],
   "source": [
    "scaler = StandardScaler()\n",
    "X_train = scaler.fit_transform(X_train)\n",
    "X_test = scaler.transform(X_test)"
   ]
  },
  {
   "cell_type": "code",
   "execution_count": 5,
   "id": "6959906c",
   "metadata": {},
   "outputs": [],
   "source": [
    "input_dim, encoding_dim = X_train.shape[1], 16\n",
    "encoder = Sequential([\n",
    "    InputLayer(input_shape=(input_dim,)),\n",
    "    Dense(32, activation='relu'),\n",
    "    Dense(encoding_dim, activation='relu')\n",
    "])"
   ]
  },
  {
   "cell_type": "code",
   "execution_count": 6,
   "id": "8b6d05d7",
   "metadata": {},
   "outputs": [],
   "source": [
    "\n",
    "decoder = Sequential([\n",
    "    InputLayer(input_shape=(encoding_dim,)),\n",
    "    Dense(32, activation='relu'),\n",
    "    Dense(input_dim, activation='sigmoid')\n",
    "])\n"
   ]
  },
  {
   "cell_type": "code",
   "execution_count": 7,
   "id": "ccf03887",
   "metadata": {},
   "outputs": [
    {
     "name": "stdout",
     "output_type": "stream",
     "text": [
      "Epoch 1/10\n",
      "125/125 [==============================] - 1s 5ms/step - loss: 0.9369 - val_loss: 0.8404\n",
      "Epoch 2/10\n",
      "125/125 [==============================] - 0s 3ms/step - loss: 0.7302 - val_loss: 0.7791\n",
      "Epoch 3/10\n",
      "125/125 [==============================] - 0s 3ms/step - loss: 0.6946 - val_loss: 0.7583\n",
      "Epoch 4/10\n",
      "125/125 [==============================] - 0s 3ms/step - loss: 0.6795 - val_loss: 0.7463\n",
      "Epoch 5/10\n",
      "125/125 [==============================] - 0s 3ms/step - loss: 0.6714 - val_loss: 0.7401\n",
      "Epoch 6/10\n",
      "125/125 [==============================] - 0s 3ms/step - loss: 0.6661 - val_loss: 0.7361\n",
      "Epoch 7/10\n",
      "125/125 [==============================] - 1s 7ms/step - loss: 0.6628 - val_loss: 0.7333\n",
      "Epoch 8/10\n",
      "125/125 [==============================] - 1s 7ms/step - loss: 0.6590 - val_loss: 0.7290\n",
      "Epoch 9/10\n",
      "125/125 [==============================] - 0s 4ms/step - loss: 0.6557 - val_loss: 0.7256\n",
      "Epoch 10/10\n",
      "125/125 [==============================] - 1s 7ms/step - loss: 0.6529 - val_loss: 0.7229\n",
      "Model: \"sequential_2\"\n",
      "_________________________________________________________________\n",
      " Layer (type)                Output Shape              Param #   \n",
      "=================================================================\n",
      " sequential (Sequential)     (None, 16)                5072      \n",
      "                                                                 \n",
      " sequential_1 (Sequential)   (None, 141)               5197      \n",
      "                                                                 \n",
      "=================================================================\n",
      "Total params: 10,269\n",
      "Trainable params: 10,269\n",
      "Non-trainable params: 0\n",
      "_________________________________________________________________\n"
     ]
    }
   ],
   "source": [
    "autoencoder = Sequential([encoder, decoder])\n",
    "\n",
    "autoencoder.compile(optimizer='adam', loss='mean_squared_error')\n",
    "\n",
    "autoencoder.fit(X_train, X_train, epochs=10, batch_size=32, shuffle=True, validation_data=(X_test, X_test))\n",
    "\n",
    "autoencoder.summary()"
   ]
  },
  {
   "cell_type": "code",
   "execution_count": 8,
   "id": "8f614007",
   "metadata": {},
   "outputs": [
    {
     "name": "stdout",
     "output_type": "stream",
     "text": [
      "32/32 [==============================] - 0s 1ms/step\n"
     ]
    }
   ],
   "source": [
    "predictions = autoencoder.predict(X_test)\n",
    "\n",
    "mse = np.mean((X_test - predictions)**2, axis=1)\n",
    "\n",
    "threshold = np.percentile(mse, 95)\n",
    "\n",
    "y_test_pred = np.where(mse > threshold, 1, 0)"
   ]
  },
  {
   "cell_type": "code",
   "execution_count": 9,
   "id": "ca8e607b",
   "metadata": {},
   "outputs": [
    {
     "data": {
      "text/plain": [
       "0.95"
      ]
     },
     "execution_count": 9,
     "metadata": {},
     "output_type": "execute_result"
    }
   ],
   "source": [
    "accuracy = accuracy_score(y_test, y_test_pred)\n",
    "accuracy_score(y_test,y_test_pred)"
   ]
  }
 ],
 "metadata": {
  "kernelspec": {
   "display_name": "Python 3 (ipykernel)",
   "language": "python",
   "name": "python3"
  },
  "language_info": {
   "codemirror_mode": {
    "name": "ipython",
    "version": 3
   },
   "file_extension": ".py",
   "mimetype": "text/x-python",
   "name": "python",
   "nbconvert_exporter": "python",
   "pygments_lexer": "ipython3",
   "version": "3.7.5"
  }
 },
 "nbformat": 4,
 "nbformat_minor": 5
}
