{
 "cells": [
  {
   "cell_type": "code",
   "execution_count": 1,
   "id": "abdf4cea",
   "metadata": {},
   "outputs": [
    {
     "data": {
      "text/plain": [
       "'\\nDATASET : https://www.kaggle.com/datasets/mlg-ulb/creditcardfraud/\\n'"
      ]
     },
     "execution_count": 1,
     "metadata": {},
     "output_type": "execute_result"
    }
   ],
   "source": [
    "\"\"\"\n",
    "DATASET : https://www.kaggle.com/datasets/mlg-ulb/creditcardfraud/\n",
    "\"\"\""
   ]
  },
  {
   "cell_type": "code",
   "execution_count": 2,
   "id": "e3401ad7",
   "metadata": {},
   "outputs": [],
   "source": [
    "import numpy as np\n",
    "import pandas as pd\n",
    "import tensorflow as tf\n",
    "from sklearn.model_selection import train_test_split\n",
    "from sklearn.preprocessing import StandardScaler"
   ]
  },
  {
   "cell_type": "code",
   "execution_count": 3,
   "id": "d04a7e90",
   "metadata": {},
   "outputs": [],
   "source": [
    "dataset = pd.read_csv('creditcard.csv')\n",
    "X = StandardScaler().fit_transform(dataset.drop('Class', axis=1))\n",
    "y = dataset['Class']"
   ]
  },
  {
   "cell_type": "code",
   "execution_count": 4,
   "id": "c238c7ce",
   "metadata": {},
   "outputs": [],
   "source": [
    "X_train, X_test, y_train, y_test = train_test_split(X, y, test_size=0.2, random_state=42)"
   ]
  },
  {
   "cell_type": "code",
   "execution_count": 5,
   "id": "fa72e2bd",
   "metadata": {},
   "outputs": [],
   "source": [
    "# Build the Autoencoder model\n",
    "from tensorflow.keras.models import Sequential\n",
    "from tensorflow.keras.layers import Dense, InputLayer\n",
    "\n",
    "input_dim, encoding_dim = X_train.shape[1], 16\n",
    "encoder = Sequential([\n",
    "    InputLayer(input_shape=(input_dim,)),\n",
    "    Dense(32, activation='relu'),\n",
    "    Dense(encoding_dim, activation='relu')\n",
    "])"
   ]
  },
  {
   "cell_type": "code",
   "execution_count": 6,
   "id": "9496438a",
   "metadata": {},
   "outputs": [],
   "source": [
    "decoder = Sequential([\n",
    "    InputLayer(input_shape=(encoding_dim,)),\n",
    "    Dense(32, activation='relu'),\n",
    "    Dense(input_dim, activation='sigmoid')\n",
    "])"
   ]
  },
  {
   "cell_type": "code",
   "execution_count": 7,
   "id": "7217fd1c",
   "metadata": {},
   "outputs": [
    {
     "name": "stdout",
     "output_type": "stream",
     "text": [
      "Epoch 1/10\n",
      "7121/7121 [==============================] - 15s 2ms/step - loss: 0.7737 - val_loss: 0.7232\n",
      "Epoch 2/10\n",
      "7121/7121 [==============================] - 18s 2ms/step - loss: 0.7275 - val_loss: 0.7092\n",
      "Epoch 3/10\n",
      "7121/7121 [==============================] - 16s 2ms/step - loss: 0.7184 - val_loss: 0.7033\n",
      "Epoch 4/10\n",
      "7121/7121 [==============================] - 16s 2ms/step - loss: 0.7150 - val_loss: 0.7012\n",
      "Epoch 5/10\n",
      "7121/7121 [==============================] - 17s 2ms/step - loss: 0.7135 - val_loss: 0.7007\n",
      "Epoch 6/10\n",
      "7121/7121 [==============================] - 16s 2ms/step - loss: 0.7125 - val_loss: 0.7001\n",
      "Epoch 7/10\n",
      "7121/7121 [==============================] - 15s 2ms/step - loss: 0.7116 - val_loss: 0.6983\n",
      "Epoch 8/10\n",
      "7121/7121 [==============================] - 17s 2ms/step - loss: 0.7107 - val_loss: 0.6982\n",
      "Epoch 9/10\n",
      "7121/7121 [==============================] - 18s 3ms/step - loss: 0.7099 - val_loss: 0.6966\n",
      "Epoch 10/10\n",
      "7121/7121 [==============================] - 17s 2ms/step - loss: 0.7094 - val_loss: 0.6966\n",
      "Model: \"sequential_2\"\n",
      "_________________________________________________________________\n",
      " Layer (type)                Output Shape              Param #   \n",
      "=================================================================\n",
      " sequential (Sequential)     (None, 16)                1520      \n",
      "                                                                 \n",
      " sequential_1 (Sequential)   (None, 30)                1534      \n",
      "                                                                 \n",
      "=================================================================\n",
      "Total params: 3,054\n",
      "Trainable params: 3,054\n",
      "Non-trainable params: 0\n",
      "_________________________________________________________________\n"
     ]
    }
   ],
   "source": [
    "autoencoder = Sequential([encoder, decoder])\n",
    "\n",
    "autoencoder.compile(optimizer='adam', loss='mean_squared_error')\n",
    "\n",
    "autoencoder.fit(X_train, X_train, epochs=10, batch_size=32, shuffle=True, validation_data=(X_test, X_test))\n",
    "\n",
    "autoencoder.summary()"
   ]
  },
  {
   "cell_type": "code",
   "execution_count": 8,
   "id": "6abb06eb",
   "metadata": {},
   "outputs": [
    {
     "name": "stdout",
     "output_type": "stream",
     "text": [
      "1781/1781 [==============================] - 4s 2ms/step\n"
     ]
    }
   ],
   "source": [
    "# Evaluate the model\n",
    "predictions = autoencoder.predict(X_test)\n",
    "mse = np.mean(np.power(X_test - predictions, 2), axis=1)\n",
    "threshold = np.percentile(mse, 95)\n",
    "\n",
    "# Classify anomalies\n",
    "y_pred = np.where(mse > threshold, 1, 0)"
   ]
  },
  {
   "cell_type": "code",
   "execution_count": 9,
   "id": "8091fdc5",
   "metadata": {},
   "outputs": [
    {
     "name": "stdout",
     "output_type": "stream",
     "text": [
      "Accuracy: 0.951353533934904\n",
      "Confusion Matrix:\n",
      "[[54103  2761]\n",
      " [   10    88]]\n",
      "Classification Report:\n",
      "              precision    recall  f1-score   support\n",
      "\n",
      "           0       1.00      0.95      0.98     56864\n",
      "           1       0.03      0.90      0.06        98\n",
      "\n",
      "    accuracy                           0.95     56962\n",
      "   macro avg       0.52      0.92      0.52     56962\n",
      "weighted avg       1.00      0.95      0.97     56962\n",
      "\n"
     ]
    }
   ],
   "source": [
    "from sklearn.metrics import accuracy_score, confusion_matrix, classification_report\n",
    "\n",
    "print(f'Accuracy: {accuracy_score(y_test, y_pred)}')\n",
    "print(f'Confusion Matrix:\\n{confusion_matrix(y_test, y_pred)}')\n",
    "print(f'Classification Report:\\n{classification_report(y_test, y_pred)}')"
   ]
  }
 ],
 "metadata": {
  "kernelspec": {
   "display_name": "Python 3 (ipykernel)",
   "language": "python",
   "name": "python3"
  },
  "language_info": {
   "codemirror_mode": {
    "name": "ipython",
    "version": 3
   },
   "file_extension": ".py",
   "mimetype": "text/x-python",
   "name": "python",
   "nbconvert_exporter": "python",
   "pygments_lexer": "ipython3",
   "version": "3.7.5"
  }
 },
 "nbformat": 4,
 "nbformat_minor": 5
}
